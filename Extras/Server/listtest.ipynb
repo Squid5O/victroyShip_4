{
 "cells": [
  {
   "cell_type": "code",
   "execution_count": 1,
   "metadata": {},
   "outputs": [],
   "source": [
    "times = list(range(9, 14))"
   ]
  },
  {
   "cell_type": "code",
   "execution_count": 2,
   "metadata": {},
   "outputs": [
    {
     "name": "stdout",
     "output_type": "stream",
     "text": [
      "[9, 10, 11, 12, 13]\n"
     ]
    }
   ],
   "source": [
    "print(times)"
   ]
  },
  {
   "cell_type": "code",
   "execution_count": 3,
   "metadata": {},
   "outputs": [],
   "source": [
    "# 생활 패턴 데이터화\n",
    "neet_schedule = {\n",
    "    'Sitting and relaxing in the park.': list(range(9, 11)),\n",
    "    'Take a nap': list(range(11, 16)),\n",
    "    'Dancing': list(range(16, 18))\n",
    "}\n",
    "\n",
    "fisher_schedule = {\n",
    "    'fishing': list(range(9, 16)),\n",
    "    'end the day by drinking beer while looking at the sea': list(range(16, 18))\n",
    "}\n",
    "\n",
    "farmer_schedule = {\n",
    "    'farm work': list(range(9, 14)),\n",
    "    'Having a cup of coffee at a cafe after finishing farm work.': list(range(14, 17))\n",
    "}\n",
    "\n",
    "artist_schedule = {\n",
    "    'sitting and drawing a picture in the park.': list(range(13, 17)),\n",
    "    'go back to my home': list(range(17, 18))\n",
    "}\n",
    "\n",
    "cafe_schedule = {\n",
    "    'draw customers by talking to passers-by': list(range(10, 16))\n",
    "}\n",
    "\n",
    "programmer_schedule = {\n",
    "    'do game programming': list(range(10, 15)),\n",
    "    'walking around park to get new inspiration': list(range(15, 17)),\n",
    "    'go back to my home': list(range(17, 18))\n",
    "}\n",
    "\n",
    "schedules = {}\n",
    "schedules[\"이준호\"] = neet_schedule\n",
    "schedules[\"이춘식\"] = fisher_schedule\n",
    "schedules[\"박채원\"] = farmer_schedule\n",
    "schedules[\"민아영\"] = artist_schedule\n",
    "schedules[\"성민우\"] = cafe_schedule\n",
    "schedules[\"김지민\"] = programmer_schedule\n",
    "\n",
    "def get_activity(name, hour):\n",
    "    if False == schedules.__contains__(name):\n",
    "        return \"walking around\"\n",
    "\n",
    "    target_schedule = schedules[name]\n",
    "    for activity, hours in target_schedule.items():\n",
    "        if hour in hours:\n",
    "            return activity\n",
    "    return \"walking around\""
   ]
  },
  {
   "cell_type": "code",
   "execution_count": 11,
   "metadata": {},
   "outputs": [
    {
     "name": "stdout",
     "output_type": "stream",
     "text": [
      "walking around\n"
     ]
    }
   ],
   "source": [
    "print(get_activity(\"뉘슈\", 11))"
   ]
  },
  {
   "cell_type": "code",
   "execution_count": null,
   "metadata": {},
   "outputs": [],
   "source": []
  }
 ],
 "metadata": {
  "kernelspec": {
   "display_name": "Sesac_gpu_env",
   "language": "python",
   "name": "python3"
  },
  "language_info": {
   "codemirror_mode": {
    "name": "ipython",
    "version": 3
   },
   "file_extension": ".py",
   "mimetype": "text/x-python",
   "name": "python",
   "nbconvert_exporter": "python",
   "pygments_lexer": "ipython3",
   "version": "3.10.14"
  }
 },
 "nbformat": 4,
 "nbformat_minor": 2
}

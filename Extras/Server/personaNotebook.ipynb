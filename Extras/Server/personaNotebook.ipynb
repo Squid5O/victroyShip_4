{
 "cells": [
  {
   "cell_type": "code",
   "execution_count": 1,
   "metadata": {},
   "outputs": [],
   "source": [
    "from openai import OpenAI\n",
    "from dotenv import load_dotenv\n",
    "from pydantic import BaseModel\n",
    "\n",
    "load_dotenv()\n",
    "client = OpenAI()\n",
    "\n",
    "class input(BaseModel):\n",
    "    work : str\n",
    "    model : str\n",
    "    persona : str\n",
    "    question : str"
   ]
  },
  {
   "cell_type": "code",
   "execution_count": 5,
   "metadata": {},
   "outputs": [
    {
     "name": "stdout",
     "output_type": "stream",
     "text": [
      "페르소나 생성 시작\n"
     ]
    }
   ],
   "source": [
    "print('페르소나 생성 시작')\n",
    "\n",
    "# 당신은 게임 스토리 작가입니다. 기획할 게임은 농촌 배경의 npc와의 관계가 메인인 게임입니다.해당 게임에서 플레이어의 이웃이 될 요청받은 npc 캐릭터의 롤플레잉을 위한 독특한 개성과 특징을 가진 페르소나를 자세히 구상하고 서술하세요. 캐릭터 페르소나에는 아래의 항목들이 포함되어야 합니다.\n",
    "persona_prompt = '''\n",
    "You are a game story writer. The game to be planned is a game that mainly revolves around relationships with NPCs in a rural setting. If input has a name, set the npc's name to that. Detail a persona with unique personalities and characteristics for role-playing of the NPC character who is asked to be the player's neighbor in the game and write it in English. Your character persona should include the following:\n",
    "name\n",
    "age\n",
    "gender\n",
    "vocation\n",
    "background\n",
    "Looks\n",
    "feature\n",
    "character\n",
    "specialty\n",
    "hobby\n",
    "objective\n",
    "'''\n",
    "\n",
    "# 아래 명령어 터미널에 복사+붙여넣기\n",
    "# python persona_maker.py\n",
    "\n",
    "####################### 만들고자 하는 npc 컨셉 적기 #######################\n",
    "\n",
    "npc_name = \"Lily\"\n",
    "persona = f\"Create me the persona of a young female farmer who has a high affinity for talking to me in half words. Her name is {npc_name}\"\n",
    "\n",
    "#########################################################################\n",
    "\n",
    "system_content = persona_prompt\n",
    "completion = client.chat.completions.create(\n",
    "    model=\"gpt-4o\",\n",
    "    messages=[\n",
    "        {\"role\": \"system\", \"content\": system_content},\n",
    "        {\"role\": \"user\", \"content\": persona}\n",
    "    ],\n",
    "    temperature=1.0,\n",
    "    max_tokens=2000\n",
    ")\n",
    "msg = completion.choices[0].message"
   ]
  },
  {
   "cell_type": "code",
   "execution_count": 6,
   "metadata": {},
   "outputs": [
    {
     "name": "stdout",
     "output_type": "stream",
     "text": [
      "**Name:** Lily\n",
      "\n",
      "**Age:** 24\n",
      "\n",
      "**Gender:** Female\n",
      "\n",
      "**Vocation:** Farmer\n",
      "\n",
      "**Background:** Lily comes from a long lineage of farmers who have tilled the lands of this rural village for generations. Raised in a loving environment where the value of hard work and community was emphasized, she learned to work the fields and care for animals from an early age. After her parents' retirement, she took over the family farm, determined to uphold their legacy.\n",
      "\n",
      "**Looks:** Lily has a sun-kissed complexion with freckles lightly scattered across her nose and cheeks. Her bright green eyes are always full of warmth and cheer, highlighted by her wavy chestnut-brown hair, which she usually ties back in a practical ponytail or under a wide-brimmed hat. She often sports overalls with a floral print shirt and sturdy boots, embodying a blend of practicality and country charm.\n",
      "\n",
      "**Feature:** Despite her seemingly laid-back country appearance, Lily has an infectious smile that lights up her entire face. Her distinctive way of talking in half words makes her conversation style endearing and memorable. She often starts a sentence, only to blend the latter part with gestures or simple sounds, yet always seems to be perfectly understood.\n",
      "\n",
      "**Character:** Lily is incredibly friendly and has an almost magnetic pull with her bubbly personality and genuine kindness. She is the kind of person who goes out of her way to help others, believing strongly in the power of community. Though she sometimes acts impulsively, her heart is always in the right place. Independent and strong-willed, she balances her hard work with a jovial spirit, making her a favorite among the villagers.\n",
      "\n",
      "**Specialty:** Lily excels in sustainable farming practices. She has an impressive knack for growing high-quality crops with natural methods and is known for her vibrant vegetables and flavorful fruits. She also has a special green thumb for herbs and flowering plants that attract beneficial insects to her farm.\n",
      "\n",
      "**Hobby:** In her spare time, Lily loves to paint nature scenes. She often uses her farm and the surrounding countryside as her canvas, capturing the beauty of the changing seasons. Additionally, she enjoys baking and frequently experiments with new recipes, especially those using her own farm produce.\n",
      "\n",
      "**Objective:** Lily dreams of turning her family farm into a model of sustainable agriculture that not only sustains her family but also educates and benefits the entire community. She hopes to host workshops and tours to spread her methods and inspire other young farmers. Through her efforts, she wants to ensure that the rural way of life thrives for generations to come.\n",
      "\n",
      "When players interact with her, they’ll find Lily to be an invaluable source of farming knowledge, a loyal friend, and a cheerful companion who always has a kind word – or half-word – and a piece of fresh fruit to share.\n"
     ]
    }
   ],
   "source": [
    "print(msg.content)"
   ]
  },
  {
   "cell_type": "code",
   "execution_count": 7,
   "metadata": {},
   "outputs": [
    {
     "name": "stdout",
     "output_type": "stream",
     "text": [
      "persona_Lily.txt 생성 완료\n"
     ]
    }
   ],
   "source": [
    "####################### persona 파일 만들기 #######################\n",
    "\n",
    "p_begin = str(completion.choices[0].message).find('=') + 2\n",
    "p_end = str(completion.choices[0].message).find('role=') -3\n",
    "p_result = str(completion.choices[0].message)[p_begin:p_end]\n",
    "\n",
    "persona_path = f'./Personas/persona_{npc_name}.txt'\n",
    "\n",
    "with open(persona_path, 'w', encoding='UTF-8-sig') as file:\n",
    "    file.write(p_result)\n",
    "    print(f'persona_{npc_name}.txt 생성 완료')\n",
    "\n",
    "###################################################################"
   ]
  },
  {
   "cell_type": "code",
   "execution_count": 16,
   "metadata": {},
   "outputs": [
    {
     "name": "stdout",
     "output_type": "stream",
     "text": [
      "### 호감도 낮은 경우 (낯선 사람 또는 처음 만난 사람)\n",
      "\n",
      "1. \"안녕하세요, 처음 뵙네요. 저는 릴리, 여기서 농사 짓고 있어요. 뭐... 도와드릴 게 있나요?\"\n",
      "2. \"이 마을 처음 오셨나 봐요. 저희 농장 구경하실래요? 뭐, 그냥... 지나가다 들르셔도 돼요.\"\n",
      "3. \"오늘 날씨 참 좋죠? 농사짓기 딱 좋은 날이에요. 아, 혹시 어디 가세요?\"\n",
      "4. \"여기서 뭐 찾고 계신가요? 길 잃으셨으면 도와드릴게요. 음... 이쪽으로 가시면 돼요.\"\n",
      "5. \"혹시 농산물 필요하시면 말씀하세요. 우리 농장... 꽤 괜찮아요.\"\n",
      "\n",
      "### 호감도 중간 (친해지고 있는 이웃 또는 지인)\n",
      "\n",
      "1. \"안녕하세요! 오늘도 농장 일이 많네요. 아, 혹시 시간 되시면 도와주실래요? 음... 간단한 일이라서요.\"\n",
      "2. \"어제 만든 파이 좀 드셔보세요. 우리 농장에서 난 과일로 만들었어요. 어때요, 맛있죠?\"\n",
      "3. \"이번 주말에 마을 축제 있잖아요. 같이 가실래요? 음... 재밌을 거예요.\"\n",
      "4. \"요즘 농사가 잘 돼서 기분이 좋네요. 혹시 필요하신 채소 있으면 언제든지 말하세요.\"\n",
      "5. \"그림 그리러 나가려고 하는데, 같이 가실래요? 풍경이 정말 예뻐요. 음... 같이 보면 좋을 것 같아요.\"\n",
      "\n",
      "### 호감도 높은 경우 (친한 친구 또는 가까운 사람)\n",
      "\n",
      "1. \"오늘 하루 어땠어? 농장 일이 많아서 힘들었어도, 너랑 얘기하면 힘이 나. 음... 정말 고마워.\"\n",
      "2. \"이번에 새로운 빵 레시피를 시도해봤어. 같이 먹어볼래? 네가 좋아할 것 같아서.\"\n",
      "3. \"너랑 같이 있으면 정말 편해. 우리 농장에 언제든지 놀러 와. 음... 네가 오면 항상 즐거워.\"\n",
      "4. \"내 꿈을 너한테 말했었나? 우리 농장을 더 많은 사람들에게 알리고 싶어. 너도 도와줄 수 있겠지?\"\n",
      "5. \"오늘 밤에 별 보러 갈래? 농장에서 보는 별이 정말 예뻐. 음... 같이 보면 더 좋을 것 같아.\"\n"
     ]
    }
   ],
   "source": [
    "npcPersona = msg.content\n",
    "\n",
    "sysprom = \"\"\"주어지는 페르소나를 기반으로 해당 인물의 한국어 대사 예시를 호감도별로 각각 5개씩 작성하시오. 대사 예시의 말투, 대화 길이는 대화 상대와의 호감도에 따라 달라집니다.\n",
    "호감도 낮은 경우 (낯선 사람 또는 처음 만난 사람)\n",
    "호감도 중간 (친해지고 있는 이웃 또는 지인)\n",
    "호감도 높은 경우 (친한 친구 또는 가까운 사람)\n",
    "\"\"\"\n",
    "completion = client.chat.completions.create(\n",
    "    model=\"gpt-4o\",\n",
    "    messages=[\n",
    "        {\"role\": \"system\", \"content\": sysprom},\n",
    "        {\"role\": \"user\", \"content\": npcPersona}\n",
    "    ],\n",
    "    temperature=0.5,\n",
    "    max_tokens=2000\n",
    ")\n",
    "result_text = completion.choices[0].message.content\n",
    "\n",
    "print(result_text)"
   ]
  },
  {
   "cell_type": "code",
   "execution_count": 20,
   "metadata": {},
   "outputs": [],
   "source": [
    "result_text='''### 호감도 낮은 경우 (낯선 사람 또는 처음 만난 사람)\n",
    "\n",
    "1. \"안녕하세요, 처음 뵙네요. 저는 릴리, 여기서 농사 짓고 있어요. 뭐... 도와드릴 게 있나요?\"\n",
    "2. \"이 마을 처음 오셨나 봐요. 저희 농장 구경하실래요? 뭐, 그냥... 지나가다 들르셔도 돼요.\"\n",
    "3. \"오늘 날씨 참 좋죠? 농사짓기 딱 좋은 날이에요. 아, 혹시 어디 가세요?\"\n",
    "4. \"여기서 뭐 찾고 계신가요? 길 잃으셨으면 도와드릴게요. 음... 이쪽으로 가시면 돼요.\"\n",
    "5. \"혹시 농산물 필요하시면 말씀하세요. 우리 농장... 꽤 괜찮아요.\"\n",
    "\n",
    "### 호감도 중간 (친해지고 있는 이웃 또는 지인)\n",
    "\n",
    "1. \"안녕하세요! 오늘도 농장 일이 많네요. 아, 혹시 시간 되시면 도와주실래요? 음... 간단한 일이라서요.\"\n",
    "2. \"어제 만든 파이 좀 드셔보세요. 우리 농장에서 난 과일로 만들었어요. 어때요, 맛있죠?\"\n",
    "3. \"이번 주말에 마을 축제 있잖아요. 같이 가실래요? 음... 재밌을 거예요.\"\n",
    "4. \"요즘 농사가 잘 돼서 기분이 좋네요. 혹시 필요하신 채소 있으면 언제든지 말하세요.\"\n",
    "5. \"그림 그리러 나가려고 하는데, 같이 가실래요? 풍경이 정말 예뻐요. 음... 같이 보면 좋을 것 같아요.\"\n",
    "\n",
    "### 호감도 높은 경우 (친한 친구 또는 가까운 사람)\n",
    "\n",
    "1. \"오늘 하루 어땠어? 농장 일이 많아서 힘들었어도, 너랑 얘기하면 힘이 나. 음... 정말 고마워.\"\n",
    "2. \"이번에 새로운 빵 레시피를 시도해봤어. 같이 먹어볼래? 네가 좋아할 것 같아서.\"\n",
    "3. \"너랑 같이 있으면 정말 편해. 우리 농장에 언제든지 놀러 와. 음... 네가 오면 항상 즐거워.\"\n",
    "4. \"내 꿈을 너한테 말했었나? 우리 농장을 더 많은 사람들에게 알리고 싶어. 너도 도와줄 수 있겠지?\"\n",
    "5. \"오늘 밤에 별 보러 갈래? 농장에서 보는 별이 정말 예뻐. 음... 같이 보면 더 좋을 것 같아.\"'''"
   ]
  },
  {
   "cell_type": "code",
   "execution_count": 21,
   "metadata": {},
   "outputs": [],
   "source": [
    "### 대화 예시 파일 만들기\n",
    "low = []\n",
    "middle = []\n",
    "high = []\n",
    "\n",
    "idx = 0\n",
    "while idx < len(result_text):\n",
    "    if result_text[idx] != '\\\"':\n",
    "        idx += 1\n",
    "        continue\n",
    "    # 대화 긁어오기\n",
    "    begin, end = idx, idx + 1\n",
    "    while result_text[end] != '\\\"':\n",
    "        end += 1\n",
    "    text = result_text[begin:end + 1]\n",
    "    if len(low) < 5: \n",
    "        low.append(text)\n",
    "    elif len(middle) < 5: \n",
    "        middle.append(text)\n",
    "    else:\n",
    "        high.append(text)\n",
    "        if len(high) == 5:\n",
    "            break\n",
    "    \n",
    "    idx = end + 1"
   ]
  },
  {
   "cell_type": "code",
   "execution_count": 22,
   "metadata": {},
   "outputs": [
    {
     "name": "stdout",
     "output_type": "stream",
     "text": [
      "sentence_Lily.json 생성 완료\n",
      "페르소나 생성 완료\n"
     ]
    }
   ],
   "source": [
    "template = f\"\"\"{{\n",
    "    \"호감도 낮은 경우 (낯선 사람 또는 처음 만난 사람)\": [\n",
    "    {low[0]},\n",
    "    {low[1]},\n",
    "    {low[2]},\n",
    "    {low[3]},\n",
    "    {low[4]}\n",
    "    ],\n",
    "    \"호감도 중간 (친해지고 있는 이웃 또는 지인)\": [\n",
    "    {middle[0]},\n",
    "    {middle[1]},\n",
    "    {middle[2]},\n",
    "    {middle[3]},\n",
    "    {middle[4]}\n",
    "    ],\n",
    "    \"호감도 높은 경우 (친한 친구 또는 가까운 사람)\": [\n",
    "    {high[0]},\n",
    "    {high[1]},\n",
    "    {high[2]},\n",
    "    {high[3]},\n",
    "    {high[4]}\n",
    "    ],\n",
    "}}\"\"\"\n",
    "\n",
    "sentence_path = f'./Personas/sentence_{npc_name}.json'\n",
    "\n",
    "with open(sentence_path, 'w', encoding='UTF-8-sig') as file:\n",
    "    file.write(template)\n",
    "    print(f'sentence_{npc_name}.json 생성 완료')\n",
    "\n",
    "print('페르소나 생성 완료')"
   ]
  }
 ],
 "metadata": {
  "kernelspec": {
   "display_name": "sesac_gpu_env310",
   "language": "python",
   "name": "python3"
  },
  "language_info": {
   "codemirror_mode": {
    "name": "ipython",
    "version": 3
   },
   "file_extension": ".py",
   "mimetype": "text/x-python",
   "name": "python",
   "nbconvert_exporter": "python",
   "pygments_lexer": "ipython3",
   "version": "3.10.14"
  }
 },
 "nbformat": 4,
 "nbformat_minor": 2
}

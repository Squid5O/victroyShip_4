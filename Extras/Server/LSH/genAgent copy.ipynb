{
 "cells": [
  {
   "cell_type": "code",
   "execution_count": 1,
   "metadata": {},
   "outputs": [],
   "source": [
    "def lowercase_strings(string_list):#리스트 내용물 전부 소문자로\n",
    "    return [s.lower() for s in string_list]"
   ]
  },
  {
   "cell_type": "code",
   "execution_count": 2,
   "metadata": {},
   "outputs": [],
   "source": [
    "places = [\"Home\", 'Cafe', 'Bakery', 'Park', 'Convenience store', 'Bar']#장소 리스트\n",
    "places = lowercase_strings(places)\n",
    "#각 장소에서 할 수 있는 행동들. 인게임에서 구현된 상호작용들과 같아야 한다\n",
    "house_activities = [\n",
    "    \"Cook a meal\",\n",
    "    \"have a meal\",\n",
    "    \"Watch TV\",\n",
    "    \"Read a book\",\n",
    "    \"Exercise\",\n",
    "    \"Sleep\",\n",
    "    \"Clean the house\",\n",
    "    \"Call a friend\",\n",
    "    \"Take a shower\",\n",
    "    \"Use a desktop\",\n",
    "    \"paint on a tablet\",\n",
    "    \"write a book\"\n",
    "]\n",
    "house_activities=lowercase_strings(house_activities)\n",
    "cafe_activities = [\n",
    "    \"Order coffee\",\n",
    "    \"Chat with barista\",\n",
    "    \"Use free Wi-Fi\",\n",
    "    \"Read a magazine\",\n",
    "    \"Work on laptop\",\n",
    "    \"Meet a friend\",\n",
    "    \"Listen to music\",\n",
    "    \"People watch\",\n",
    "    \"Sketch in a notebook\",\n",
    "    \"Try a new pastry\"\n",
    "]\n",
    "cafe_activities=lowercase_strings(cafe_activities)\n",
    "bakery_activities = [\n",
    "    \"Buy bread\",\n",
    "    \"Purchase pastries\",\n",
    "    \"Order a cake\",\n",
    "    \"Chat with baker\",\n",
    "    \"Sample free tasters\",\n",
    "    \"Watch the baking process\",\n",
    "    \"Learn a baking tip\",\n",
    "    \"Order coffee\",\n",
    "    \"Relax in seating area\",\n",
    "    \"Sign up for baking class\"\n",
    "]\n",
    "bakery_activities=lowercase_strings(bakery_activities)\n",
    "park_activities = [\n",
    "    \"Walk the dog\",\n",
    "    \"Have a picnic\",\n",
    "    \"Jog\",\n",
    "    \"Read a book on a bench\",\n",
    "    \"Feed the ducks\",\n",
    "    \"Play frisbee\",\n",
    "    \"Take photos\",\n",
    "    \"Ride a bike\",\n",
    "    \"Meditate\",\n",
    "    \"Fly a kite\"\n",
    "]\n",
    "park_activities=lowercase_strings(park_activities)\n",
    "convenience_store_activities = [\n",
    "    \"Buy snacks\",\n",
    "    \"Purchase drinks\",\n",
    "    \"Get lottery tickets\",\n",
    "    \"Chat with cashier\",\n",
    "    \"Pick up a magazine\",\n",
    "    \"Use the ATM\",\n",
    "    \"Get a hot dog\",\n",
    "    \"Buy household items\",\n",
    "    \"Refill phone credit\",\n",
    "    \"Get ice cream\"\n",
    "]\n",
    "convenience_store_activities=lowercase_strings(convenience_store_activities)\n",
    "bar_activities = [\n",
    "    \"Order a drink\",\n",
    "    \"Play pool\",\n",
    "    \"Listen to live music\",\n",
    "    \"Watch a sports game\",\n",
    "    \"Chat with bartender\",\n",
    "    \"Dance\",\n",
    "    \"Meet new people\",\n",
    "    \"Sing karaoke\",\n",
    "    \"Try a new cocktail\",\n",
    "    \"Participate in trivia night\"\n",
    "]\n",
    "bar_activities=lowercase_strings(bar_activities)\n"
   ]
  },
  {
   "cell_type": "code",
   "execution_count": 3,
   "metadata": {},
   "outputs": [],
   "source": [
    "persona_ryan = '''\n",
    " name : Ryan Park\n",
    " age : 29\n",
    " Innate tendency : imaginative, patient, kind\n",
    " Learned tendency : Tamara Taylor is a children's book author who loves to create stories that capture the imaginations of young readers. She is very patient and kind when it comes to her work.\n",
    " Currently : Ryan Park is working on a project to create a new mobile app. He is also reading up on the latest technologies to stay ahead of the curve.\n",
    " Lifestyle : Ryan Park goes to bed around 1am, awakes up around 9am, eats dinner around 5pm.\n",
    "'''\n",
    "persona_tamara = '''\n",
    " name : Tamara Taylor\n",
    " age : 30\n",
    " Innate tendency : analytical, pragmatic, driven\n",
    " Learned tendency : Ryan Park is a software engineer who loves to solve problems. He is constantly looking for ways to improve existing systems.\n",
    " Currently : Tamara Taylor lives with a housemate, Carmen Ortiz, and is working on a new series of children's books. She is also working on a comic book series for adults.\n",
    " Lifestyle : Tamara Taylor goes to bed around 10pm, awakes up around 6am, eats dinner around 6pm.\n",
    "'''\n",
    "persona_abigail = '''\n",
    " name : Abigail Chen\n",
    " age : 25\n",
    " Innate tendency : open-minded, curious, determined\n",
    " Learned tendency : Abigail Chen is a digital artist and animator who loves to explore how technology can be used to express ideas. She is always looking for new ways to combine art and technology.\n",
    " Currently : Abigail Chen is working on an animation project for a client. She is also experimenting with different tools and techniques to create interactive art.\n",
    " Lifestyle : Abigail Chen awakes up around 08:00, goes to bed around 24:00.\n",
    "'''"
   ]
  },
  {
   "cell_type": "code",
   "execution_count": 4,
   "metadata": {},
   "outputs": [],
   "source": [
    "sysprom = \"You are an imaginative game story writer. Answer the request.\""
   ]
  },
  {
   "cell_type": "code",
   "execution_count": 5,
   "metadata": {},
   "outputs": [],
   "source": [
    "oldScedule = \"Here's what a person did today. \"#인물들의 행동을 정리할 변수"
   ]
  },
  {
   "cell_type": "code",
   "execution_count": 6,
   "metadata": {},
   "outputs": [],
   "source": [
    "import ollama\n",
    "\n",
    "def setUserProm(time,persona):\n",
    "    userprom = f\"\"\"Understand the persona of the given people, {persona}.\n",
    "    Around the people, there are places such as {places}.\n",
    "    What you can do at home is {house_activities}. \n",
    "    What you can do at a cafe is {cafe_activities}. \n",
    "    What you can do at a bakery is {bakery_activities}. \n",
    "    What you can do at a park is {park_activities}. \n",
    "    What you can do at a convenience store is {convenience_store_activities}. \n",
    "    What you can do at a bar is {bar_activities}.\n",
    "    This is what a person has done before. {oldScedule}  \n",
    "    people will have coffee with her friend at the cafe at 3 p.m.\n",
    "    Based on what you understand, predict what a person is likely to do at {time} and print it out according to the form given. Make a prediction in consideration of what you have done previously. Output according to the given json format\n",
    "    {'{'}\n",
    "        \"name\": \"people's name, Must be enclosed in double quotation marks\",\n",
    "        \"place\": \"name of a place, string type, Must be enclosed in double quotation marks\",\n",
    "        \"activity\": \"Activities in the list of activities available at the location, string type, Must be enclosed in double quotation marks\",\n",
    "        \"description\": \"Detailed description of the schedule., string type, Must be enclosed in double quotation marks\"\n",
    "    {'}'}\n",
    "    Answer in less than 800 characters.\n",
    "    \"\"\"\n",
    "    return userprom\n",
    "\n",
    "\n",
    "#챗봇 응답 결과에서 불필요한 문장을 잘라낼 함수\n",
    "def jsonMaker(text):\n",
    "\n",
    "    # Find the index of the first '['\n",
    "    start_index = text.find('{')\n",
    "\n",
    "    # Find the index of the last ']'\n",
    "    end_index = text.rfind('}')\n",
    "\n",
    "    # Truncate the string before the first '[' and after the last ']'\n",
    "    truncated_text = text[start_index:end_index + 1]\n",
    "    return truncated_text"
   ]
  },
  {
   "cell_type": "code",
   "execution_count": 7,
   "metadata": {},
   "outputs": [],
   "source": [
    "import json"
   ]
  },
  {
   "cell_type": "code",
   "execution_count": 8,
   "metadata": {},
   "outputs": [],
   "source": [
    "#생성된 스케줄에서 시간, 날짜, 활동을 가져와서 문자열로 저장함. 다음 시간대 스케쥴 예측에 반영될 수 있도록\n",
    "def parse_schedule(time,schedule):\n",
    "    result = \"\"\n",
    "    result+=(f\",'{time}, {schedule['place']}, {schedule['activity']}'\")\n",
    "    return result"
   ]
  },
  {
   "cell_type": "code",
   "execution_count": 9,
   "metadata": {},
   "outputs": [],
   "source": [
    "t1 = '''{\n",
    "\"name\": \"Abigail Chen\",\n",
    "\"place\": \"House\",\n",
    "\"activity\": \"eat and Sleep\",\n",
    "\"description\": \"After a long day of working from home and cooking dinner, Abigail will likely wind down by watching TV and then retire to bed around midnight, preparing for another busy day ahead.\"\n",
    "}'''\n",
    "t2 = json.loads(t1)\n"
   ]
  },
  {
   "cell_type": "markdown",
   "metadata": {},
   "source": [
    "만약 모델이 이상한 장소를 출력할 경우 비슷한 장소로 대체하는 함수"
   ]
  },
  {
   "cell_type": "code",
   "execution_count": 10,
   "metadata": {},
   "outputs": [],
   "source": [
    "#만약 모델이 지멋대로 이상한 장소를 출력할 경우 비슷한 장소로 대체하는 함수\n",
    "def place_in_list(target_string):\n",
    "    if target_string in places:\n",
    "        return target_string\n",
    "    else:\n",
    "        stream = ollama.chat(\n",
    "        model='llama3',\n",
    "        messages=[\n",
    "            {\"role\": \"system\", \"content\": f'Find the place that most closely resembles the place requested in the list {places} and output it succinctly.'},\n",
    "            {\"role\": \"user\", \"content\": target_string}\n",
    "        ],\n",
    "        options={\"temperature\":0.5\n",
    "                },\n",
    "        stream=False,\n",
    "        )\n",
    "        print(f\"\\n   place in list error : {target_string} replaced by {stream['message']['content']}\\n\")\n",
    "        return stream['message']['content']"
   ]
  },
  {
   "cell_type": "code",
   "execution_count": 11,
   "metadata": {},
   "outputs": [
    {
     "name": "stdout",
     "output_type": "stream",
     "text": [
      "\n",
      "   place in list error : house replaced by Home\n",
      "\n"
     ]
    },
    {
     "data": {
      "text/plain": [
       "'Home'"
      ]
     },
     "execution_count": 11,
     "metadata": {},
     "output_type": "execute_result"
    }
   ],
   "source": [
    "place_in_list(\"house\")"
   ]
  },
  {
   "cell_type": "code",
   "execution_count": 12,
   "metadata": {},
   "outputs": [],
   "source": [
    "#만약 모델이 지멋대로 행동을 만들어낼 경우 비슷한 행동으로 대체하는 함수\n",
    "def activities_in_list(place,target_string):\n",
    "    place_activities = {\"home\":house_activities, 'cafe':cafe_activities, 'bakery':bakery_activities, 'park':park_activities, 'convenience store':convenience_store_activities, 'bar':bar_activities}.get(place,house_activities)\n",
    "    if target_string in place_activities:\n",
    "        return target_string\n",
    "    else:\n",
    "        stream = ollama.chat(\n",
    "        model='llama3',\n",
    "        messages=[\n",
    "            {\"role\": \"system\", \"content\": f'Find one activity in the list {place_activities} that is most similar to the activity requested and output it succinctly.'},\n",
    "            {\"role\": \"user\", \"content\": target_string}\n",
    "        ],\n",
    "        options={\"temperature\":0.5\n",
    "                },\n",
    "        stream=False,\n",
    "        )\n",
    "        if stream['message']['content'] in place_activities:\n",
    "            print(f\"\\n   aitivities in list error : in {place}, {target_string} replaced by {stream['message']['content']}\\n\")\n",
    "            return stream['message']['content']\n",
    "        else:\n",
    "            print(f\"\\n   aitivities in list error : {target_string} is wrong, regenerate\")\n",
    "            return \"error\"#만약 다시 찾아도 값이 이상하게 나오면 에러 출력"
   ]
  },
  {
   "cell_type": "code",
   "execution_count": 13,
   "metadata": {},
   "outputs": [
    {
     "name": "stdout",
     "output_type": "stream",
     "text": [
      "\n",
      "   aitivities in list error : order coffee is wrong, regenerate\n"
     ]
    },
    {
     "data": {
      "text/plain": [
       "'error'"
      ]
     },
     "execution_count": 13,
     "metadata": {},
     "output_type": "execute_result"
    }
   ],
   "source": [
    "activities_in_list(\"Cafe\",'order coffee')"
   ]
  },
  {
   "cell_type": "markdown",
   "metadata": {},
   "source": [
    "한번 검사해서 값이 리스트에 없으면 찾아달라고 한다. 만약 그래도 값이 없다면 다시 출력해달라고 한다"
   ]
  },
  {
   "cell_type": "code",
   "execution_count": 14,
   "metadata": {},
   "outputs": [],
   "source": [
    "#챗봇에게 다음 스케줄 만들어달라고 하는 함수\n",
    "def make_schedule(time,persona):\n",
    "    stream = ollama.chat(\n",
    "    model='llama3',\n",
    "    messages=[\n",
    "        {\"role\": \"system\", \"content\": sysprom},\n",
    "        {\"role\": \"user\", \"content\": setUserProm(time,persona)}\n",
    "    ],\n",
    "    options={\n",
    "            #  \"temperature\":1.2,\n",
    "             \"repeat_penalty\": 1.3,\n",
    "             \"num_ctx\": 1024,\n",
    "            # ,\"top_k\":60,\n",
    "            # ,\"top_p\":0.3\n",
    "             },\n",
    "    stream=True,\n",
    "    )\n",
    "    whole_string = \"\"\n",
    "    for chunk in stream:\n",
    "        whole_string+=chunk['message']['content']\n",
    "        print(chunk['message']['content'], end='', flush=True)\n",
    "    return whole_string"
   ]
  },
  {
   "cell_type": "code",
   "execution_count": 15,
   "metadata": {},
   "outputs": [],
   "source": [
    "def get_schedule(time,persona):\n",
    "    global oldScedule\n",
    "    \n",
    "    chat_response = make_schedule(time,persona)\n",
    "    \n",
    "    a1 = jsonMaker(chat_response)\n",
    "    a1.lower()#대소문자로 차이나지 않게 다 소문자로 바꾸기\n",
    "    a2 = json.loads(a1)\n",
    "    a2['place'] = place_in_list(a2['place'])\n",
    "    a2['activity'] = activities_in_list(a2['place'],a2['activity'])\n",
    "    if a2['activity']=='error':#만약 에러값이 나오면 다시 스케쥴 생성\n",
    "        print(\"\\n   regenerate\")\n",
    "        chat_response = make_schedule(time,persona)\n",
    "        a1 = jsonMaker(chat_response)\n",
    "        a1.lower()\n",
    "        a2 = json.loads(a1)\n",
    "        a2['place'] = place_in_list(a2['place'])\n",
    "        a2['activity'] = activities_in_list(a2['place'],a2['activity'])\n",
    "        if a2['activity']=='error':#두번째에도 에러가 나오면 기본값 출력시키기\n",
    "            print(\"\\n   second generate error : give default\\n\")\n",
    "            a2['place'] = place_in_list('house')\n",
    "            a2['activity'] = activities_in_list(a2['place'],\"Read a book\")#기본값 출력\n",
    "    a3 = json.dumps(a2)\n",
    "    print(f\"\\n*** {time}\\n\"+a3)\n",
    "    a4 = parse_schedule(time,a2)\n",
    "    oldScedule=a4"
   ]
  },
  {
   "cell_type": "code",
   "execution_count": 16,
   "metadata": {},
   "outputs": [],
   "source": [
    "# get_schedule(f'{4*2}:00',persona_ryan)"
   ]
  },
  {
   "cell_type": "code",
   "execution_count": 17,
   "metadata": {},
   "outputs": [
    {
     "name": "stdout",
     "output_type": "stream",
     "text": [
      "{\n",
      "\"name\": \"Ryan Park\", \n",
      "\"place\": \"home\", \n",
      "\"activity\": \"use a desktop\", \n",
      "\"description\": \"Catch up on work and get some projects done before the night gets busy.\"\n",
      "}\n",
      "*** 8:00\n",
      "{\"name\": \"Ryan Park\", \"place\": \"home\", \"activity\": \"use a desktop\", \"description\": \"Catch up on work and get some projects done before the night gets busy.\"}\n",
      "{\n",
      "\"name\": \"Ryan Park\", \n",
      "\"place\": \"home\", \n",
      "\"activity\": \"use a desktop\", \n",
      "\"description\": Ryan continues his project to create a new mobile app and spends the morning working on it at home.\"\n",
      "}"
     ]
    },
    {
     "ename": "JSONDecodeError",
     "evalue": "Expecting value: line 5 column 16 (char 87)",
     "output_type": "error",
     "traceback": [
      "\u001b[1;31m---------------------------------------------------------------------------\u001b[0m",
      "\u001b[1;31mJSONDecodeError\u001b[0m                           Traceback (most recent call last)",
      "Cell \u001b[1;32mIn[17], line 3\u001b[0m\n\u001b[0;32m      1\u001b[0m \u001b[38;5;66;03m# oldScedule = \"Here's what a person did today. \"\u001b[39;00m\n\u001b[0;32m      2\u001b[0m \u001b[38;5;28;01mfor\u001b[39;00m i \u001b[38;5;129;01min\u001b[39;00m \u001b[38;5;28mrange\u001b[39m(\u001b[38;5;241m4\u001b[39m, \u001b[38;5;241m13\u001b[39m):\n\u001b[1;32m----> 3\u001b[0m     \u001b[43mget_schedule\u001b[49m\u001b[43m(\u001b[49m\u001b[38;5;124;43mf\u001b[39;49m\u001b[38;5;124;43m'\u001b[39;49m\u001b[38;5;132;43;01m{\u001b[39;49;00m\u001b[43mi\u001b[49m\u001b[38;5;241;43m*\u001b[39;49m\u001b[38;5;241;43m2\u001b[39;49m\u001b[38;5;132;43;01m}\u001b[39;49;00m\u001b[38;5;124;43m:00\u001b[39;49m\u001b[38;5;124;43m'\u001b[39;49m\u001b[43m,\u001b[49m\u001b[43mpersona_ryan\u001b[49m\u001b[43m)\u001b[49m\n\u001b[0;32m      5\u001b[0m \u001b[38;5;28mprint\u001b[39m(\u001b[38;5;124m'\u001b[39m\u001b[38;5;130;01m\\n\u001b[39;00m\u001b[38;5;124m'\u001b[39m\u001b[38;5;241m+\u001b[39moldScedule)\n",
      "Cell \u001b[1;32mIn[15], line 8\u001b[0m, in \u001b[0;36mget_schedule\u001b[1;34m(time, persona)\u001b[0m\n\u001b[0;32m      6\u001b[0m a1 \u001b[38;5;241m=\u001b[39m jsonMaker(chat_response)\n\u001b[0;32m      7\u001b[0m a1\u001b[38;5;241m.\u001b[39mlower()\u001b[38;5;66;03m#대소문자로 차이나지 않게 다 소문자로 바꾸기\u001b[39;00m\n\u001b[1;32m----> 8\u001b[0m a2 \u001b[38;5;241m=\u001b[39m \u001b[43mjson\u001b[49m\u001b[38;5;241;43m.\u001b[39;49m\u001b[43mloads\u001b[49m\u001b[43m(\u001b[49m\u001b[43ma1\u001b[49m\u001b[43m)\u001b[49m\n\u001b[0;32m      9\u001b[0m a2[\u001b[38;5;124m'\u001b[39m\u001b[38;5;124mplace\u001b[39m\u001b[38;5;124m'\u001b[39m] \u001b[38;5;241m=\u001b[39m place_in_list(a2[\u001b[38;5;124m'\u001b[39m\u001b[38;5;124mplace\u001b[39m\u001b[38;5;124m'\u001b[39m])\n\u001b[0;32m     10\u001b[0m a2[\u001b[38;5;124m'\u001b[39m\u001b[38;5;124mactivity\u001b[39m\u001b[38;5;124m'\u001b[39m] \u001b[38;5;241m=\u001b[39m activities_in_list(a2[\u001b[38;5;124m'\u001b[39m\u001b[38;5;124mplace\u001b[39m\u001b[38;5;124m'\u001b[39m],a2[\u001b[38;5;124m'\u001b[39m\u001b[38;5;124mactivity\u001b[39m\u001b[38;5;124m'\u001b[39m])\n",
      "File \u001b[1;32mc:\\Users\\MSI\\.conda\\envs\\sesac_gpu_env310\\lib\\json\\__init__.py:346\u001b[0m, in \u001b[0;36mloads\u001b[1;34m(s, cls, object_hook, parse_float, parse_int, parse_constant, object_pairs_hook, **kw)\u001b[0m\n\u001b[0;32m    341\u001b[0m     s \u001b[38;5;241m=\u001b[39m s\u001b[38;5;241m.\u001b[39mdecode(detect_encoding(s), \u001b[38;5;124m'\u001b[39m\u001b[38;5;124msurrogatepass\u001b[39m\u001b[38;5;124m'\u001b[39m)\n\u001b[0;32m    343\u001b[0m \u001b[38;5;28;01mif\u001b[39;00m (\u001b[38;5;28mcls\u001b[39m \u001b[38;5;129;01mis\u001b[39;00m \u001b[38;5;28;01mNone\u001b[39;00m \u001b[38;5;129;01mand\u001b[39;00m object_hook \u001b[38;5;129;01mis\u001b[39;00m \u001b[38;5;28;01mNone\u001b[39;00m \u001b[38;5;129;01mand\u001b[39;00m\n\u001b[0;32m    344\u001b[0m         parse_int \u001b[38;5;129;01mis\u001b[39;00m \u001b[38;5;28;01mNone\u001b[39;00m \u001b[38;5;129;01mand\u001b[39;00m parse_float \u001b[38;5;129;01mis\u001b[39;00m \u001b[38;5;28;01mNone\u001b[39;00m \u001b[38;5;129;01mand\u001b[39;00m\n\u001b[0;32m    345\u001b[0m         parse_constant \u001b[38;5;129;01mis\u001b[39;00m \u001b[38;5;28;01mNone\u001b[39;00m \u001b[38;5;129;01mand\u001b[39;00m object_pairs_hook \u001b[38;5;129;01mis\u001b[39;00m \u001b[38;5;28;01mNone\u001b[39;00m \u001b[38;5;129;01mand\u001b[39;00m \u001b[38;5;129;01mnot\u001b[39;00m kw):\n\u001b[1;32m--> 346\u001b[0m     \u001b[38;5;28;01mreturn\u001b[39;00m \u001b[43m_default_decoder\u001b[49m\u001b[38;5;241;43m.\u001b[39;49m\u001b[43mdecode\u001b[49m\u001b[43m(\u001b[49m\u001b[43ms\u001b[49m\u001b[43m)\u001b[49m\n\u001b[0;32m    347\u001b[0m \u001b[38;5;28;01mif\u001b[39;00m \u001b[38;5;28mcls\u001b[39m \u001b[38;5;129;01mis\u001b[39;00m \u001b[38;5;28;01mNone\u001b[39;00m:\n\u001b[0;32m    348\u001b[0m     \u001b[38;5;28mcls\u001b[39m \u001b[38;5;241m=\u001b[39m JSONDecoder\n",
      "File \u001b[1;32mc:\\Users\\MSI\\.conda\\envs\\sesac_gpu_env310\\lib\\json\\decoder.py:337\u001b[0m, in \u001b[0;36mJSONDecoder.decode\u001b[1;34m(self, s, _w)\u001b[0m\n\u001b[0;32m    332\u001b[0m \u001b[38;5;28;01mdef\u001b[39;00m \u001b[38;5;21mdecode\u001b[39m(\u001b[38;5;28mself\u001b[39m, s, _w\u001b[38;5;241m=\u001b[39mWHITESPACE\u001b[38;5;241m.\u001b[39mmatch):\n\u001b[0;32m    333\u001b[0m \u001b[38;5;250m    \u001b[39m\u001b[38;5;124;03m\"\"\"Return the Python representation of ``s`` (a ``str`` instance\u001b[39;00m\n\u001b[0;32m    334\u001b[0m \u001b[38;5;124;03m    containing a JSON document).\u001b[39;00m\n\u001b[0;32m    335\u001b[0m \n\u001b[0;32m    336\u001b[0m \u001b[38;5;124;03m    \"\"\"\u001b[39;00m\n\u001b[1;32m--> 337\u001b[0m     obj, end \u001b[38;5;241m=\u001b[39m \u001b[38;5;28;43mself\u001b[39;49m\u001b[38;5;241;43m.\u001b[39;49m\u001b[43mraw_decode\u001b[49m\u001b[43m(\u001b[49m\u001b[43ms\u001b[49m\u001b[43m,\u001b[49m\u001b[43m \u001b[49m\u001b[43midx\u001b[49m\u001b[38;5;241;43m=\u001b[39;49m\u001b[43m_w\u001b[49m\u001b[43m(\u001b[49m\u001b[43ms\u001b[49m\u001b[43m,\u001b[49m\u001b[43m \u001b[49m\u001b[38;5;241;43m0\u001b[39;49m\u001b[43m)\u001b[49m\u001b[38;5;241;43m.\u001b[39;49m\u001b[43mend\u001b[49m\u001b[43m(\u001b[49m\u001b[43m)\u001b[49m\u001b[43m)\u001b[49m\n\u001b[0;32m    338\u001b[0m     end \u001b[38;5;241m=\u001b[39m _w(s, end)\u001b[38;5;241m.\u001b[39mend()\n\u001b[0;32m    339\u001b[0m     \u001b[38;5;28;01mif\u001b[39;00m end \u001b[38;5;241m!=\u001b[39m \u001b[38;5;28mlen\u001b[39m(s):\n",
      "File \u001b[1;32mc:\\Users\\MSI\\.conda\\envs\\sesac_gpu_env310\\lib\\json\\decoder.py:355\u001b[0m, in \u001b[0;36mJSONDecoder.raw_decode\u001b[1;34m(self, s, idx)\u001b[0m\n\u001b[0;32m    353\u001b[0m     obj, end \u001b[38;5;241m=\u001b[39m \u001b[38;5;28mself\u001b[39m\u001b[38;5;241m.\u001b[39mscan_once(s, idx)\n\u001b[0;32m    354\u001b[0m \u001b[38;5;28;01mexcept\u001b[39;00m \u001b[38;5;167;01mStopIteration\u001b[39;00m \u001b[38;5;28;01mas\u001b[39;00m err:\n\u001b[1;32m--> 355\u001b[0m     \u001b[38;5;28;01mraise\u001b[39;00m JSONDecodeError(\u001b[38;5;124m\"\u001b[39m\u001b[38;5;124mExpecting value\u001b[39m\u001b[38;5;124m\"\u001b[39m, s, err\u001b[38;5;241m.\u001b[39mvalue) \u001b[38;5;28;01mfrom\u001b[39;00m \u001b[38;5;28;01mNone\u001b[39;00m\n\u001b[0;32m    356\u001b[0m \u001b[38;5;28;01mreturn\u001b[39;00m obj, end\n",
      "\u001b[1;31mJSONDecodeError\u001b[0m: Expecting value: line 5 column 16 (char 87)"
     ]
    }
   ],
   "source": [
    "# oldScedule = \"Here's what a person did today. \"\n",
    "for i in range(4, 13):\n",
    "    get_schedule(f'{i*2}:00',persona_ryan)\n",
    "\n",
    "print('\\n'+oldScedule)"
   ]
  },
  {
   "cell_type": "code",
   "execution_count": 576,
   "metadata": {},
   "outputs": [
    {
     "name": "stdout",
     "output_type": "stream",
     "text": [
      "Based on what I understand about Abigail Chen, here is her schedule for 8:00 am:\n",
      "\n",
      "{\n",
      "\"name\": \"Abigail Chen\",\n",
      "\"place\": \"Home\",\n",
      "\"activity\": \"Have a meal\",\n",
      "\"description\": \"Abigail wakes up at 8:00 am and has breakfast to start the day.\"\n",
      "}\n",
      "\n",
      "She starts her day by having a meal at home, setting herself up for a productive day ahead.\n",
      "   aitivities in list error : in Home, Have a meal replaced by Cook a meal\n",
      "\n",
      "\n",
      "***\n",
      "{\"name\": \"Abigail Chen\", \"place\": \"Home\", \"activity\": \"Cook a meal\", \"description\": \"Abigail wakes up at 8:00 am and has breakfast to start the day.\"}\n",
      "\n",
      "Here's what a person did today. ,'8:00, Home, Cook a meal'\n"
     ]
    }
   ],
   "source": [
    "get_schedule('8:00',persona_ryan)\n",
    "print('\\n'+oldScedule)"
   ]
  },
  {
   "cell_type": "code",
   "execution_count": 577,
   "metadata": {},
   "outputs": [
    {
     "data": {
      "text/plain": [
       "\"Here's what a person did today. ,'8:00, Home, Cook a meal'\""
      ]
     },
     "execution_count": 577,
     "metadata": {},
     "output_type": "execute_result"
    }
   ],
   "source": [
    "oldScedule"
   ]
  },
  {
   "cell_type": "markdown",
   "metadata": {},
   "source": [
    "에러 발생시 인게임에서 알 수 있도록 에러가 난 원래 문장이 무엇인지 같이 전달하면 좋을 듯"
   ]
  },
  {
   "cell_type": "code",
   "execution_count": 25,
   "metadata": {},
   "outputs": [
    {
     "ename": "ValueError",
     "evalue": "not enough values to unpack (expected 3, got 2)",
     "output_type": "error",
     "traceback": [
      "\u001b[1;31m---------------------------------------------------------------------------\u001b[0m",
      "\u001b[1;31mValueError\u001b[0m                                Traceback (most recent call last)",
      "Cell \u001b[1;32mIn[25], line 31\u001b[0m\n\u001b[0;32m     23\u001b[0m json_string \u001b[38;5;241m=\u001b[39m \u001b[38;5;124m'''\u001b[39m\u001b[38;5;124m{\u001b[39m\n\u001b[0;32m     24\u001b[0m \u001b[38;5;124mname: Ryan Park, \u001b[39m\n\u001b[0;32m     25\u001b[0m \u001b[38;5;124mplace: home, \u001b[39m\n\u001b[0;32m     26\u001b[0m \u001b[38;5;124mactivity: use a desktop, \u001b[39m\n\u001b[0;32m     27\u001b[0m \u001b[38;5;124mdescription: Ryan continues his project to create a new mobile app and spends the morning working on it at home.\u001b[39m\n\u001b[0;32m     28\u001b[0m \u001b[38;5;124m}\u001b[39m\u001b[38;5;124m'''\u001b[39m\n\u001b[0;32m     30\u001b[0m \u001b[38;5;66;03m# 함수 호출 및 변환된 JSON 문자열 출력\u001b[39;00m\n\u001b[1;32m---> 31\u001b[0m corrected_json_string \u001b[38;5;241m=\u001b[39m \u001b[43madd_quotes_if_needed\u001b[49m\u001b[43m(\u001b[49m\u001b[43mjson_string\u001b[49m\u001b[43m)\u001b[49m\n\u001b[0;32m     32\u001b[0m \u001b[38;5;28mprint\u001b[39m(corrected_json_string)\n\u001b[0;32m     34\u001b[0m \u001b[38;5;66;03m# 파이썬 딕셔너리로 변환\u001b[39;00m\n",
      "Cell \u001b[1;32mIn[25], line 18\u001b[0m, in \u001b[0;36madd_quotes_if_needed\u001b[1;34m(json_string)\u001b[0m\n\u001b[0;32m     15\u001b[0m     \u001b[38;5;28;01mreturn\u001b[39;00m \u001b[38;5;124mf\u001b[39m\u001b[38;5;124m'\u001b[39m\u001b[38;5;132;01m{\u001b[39;00mkey\u001b[38;5;132;01m}\u001b[39;00m\u001b[38;5;124m: \u001b[39m\u001b[38;5;132;01m{\u001b[39;00mvalue\u001b[38;5;132;01m}\u001b[39;00m\u001b[38;5;124m'\u001b[39m\n\u001b[0;32m     17\u001b[0m \u001b[38;5;66;03m# key-value 쌍을 찾기 위한 정규 표현식\u001b[39;00m\n\u001b[1;32m---> 18\u001b[0m json_string \u001b[38;5;241m=\u001b[39m \u001b[43mre\u001b[49m\u001b[38;5;241;43m.\u001b[39;49m\u001b[43msub\u001b[49m\u001b[43m(\u001b[49m\u001b[38;5;124;43mr\u001b[39;49m\u001b[38;5;124;43m\"\u001b[39;49m\u001b[38;5;124;43m(\u001b[39;49m\u001b[38;5;124;43m\\\u001b[39;49m\u001b[38;5;124;43mw+)\u001b[39;49m\u001b[38;5;124;43m\\\u001b[39;49m\u001b[38;5;124;43ms*:\u001b[39;49m\u001b[38;5;124;43m\\\u001b[39;49m\u001b[38;5;124;43ms*([^,\u001b[39;49m\u001b[38;5;124;43m\\\u001b[39;49m\u001b[38;5;124;43m}\u001b[39;49m\u001b[38;5;124;43m\\\u001b[39;49m\u001b[38;5;124;43m{\u001b[39;49m\u001b[38;5;124;43m]+)\u001b[39;49m\u001b[38;5;124;43m\"\u001b[39;49m\u001b[43m,\u001b[49m\u001b[43m \u001b[49m\u001b[43mquote_match\u001b[49m\u001b[43m,\u001b[49m\u001b[43m \u001b[49m\u001b[43mjson_string\u001b[49m\u001b[43m)\u001b[49m\n\u001b[0;32m     20\u001b[0m \u001b[38;5;28;01mreturn\u001b[39;00m json_string\n",
      "File \u001b[1;32mc:\\Users\\MSI\\.conda\\envs\\sesac_gpu_env310\\lib\\re.py:209\u001b[0m, in \u001b[0;36msub\u001b[1;34m(pattern, repl, string, count, flags)\u001b[0m\n\u001b[0;32m    202\u001b[0m \u001b[38;5;28;01mdef\u001b[39;00m \u001b[38;5;21msub\u001b[39m(pattern, repl, string, count\u001b[38;5;241m=\u001b[39m\u001b[38;5;241m0\u001b[39m, flags\u001b[38;5;241m=\u001b[39m\u001b[38;5;241m0\u001b[39m):\n\u001b[0;32m    203\u001b[0m \u001b[38;5;250m    \u001b[39m\u001b[38;5;124;03m\"\"\"Return the string obtained by replacing the leftmost\u001b[39;00m\n\u001b[0;32m    204\u001b[0m \u001b[38;5;124;03m    non-overlapping occurrences of the pattern in string by the\u001b[39;00m\n\u001b[0;32m    205\u001b[0m \u001b[38;5;124;03m    replacement repl.  repl can be either a string or a callable;\u001b[39;00m\n\u001b[0;32m    206\u001b[0m \u001b[38;5;124;03m    if a string, backslash escapes in it are processed.  If it is\u001b[39;00m\n\u001b[0;32m    207\u001b[0m \u001b[38;5;124;03m    a callable, it's passed the Match object and must return\u001b[39;00m\n\u001b[0;32m    208\u001b[0m \u001b[38;5;124;03m    a replacement string to be used.\"\"\"\u001b[39;00m\n\u001b[1;32m--> 209\u001b[0m     \u001b[38;5;28;01mreturn\u001b[39;00m \u001b[43m_compile\u001b[49m\u001b[43m(\u001b[49m\u001b[43mpattern\u001b[49m\u001b[43m,\u001b[49m\u001b[43m \u001b[49m\u001b[43mflags\u001b[49m\u001b[43m)\u001b[49m\u001b[38;5;241;43m.\u001b[39;49m\u001b[43msub\u001b[49m\u001b[43m(\u001b[49m\u001b[43mrepl\u001b[49m\u001b[43m,\u001b[49m\u001b[43m \u001b[49m\u001b[43mstring\u001b[49m\u001b[43m,\u001b[49m\u001b[43m \u001b[49m\u001b[43mcount\u001b[49m\u001b[43m)\u001b[49m\n",
      "Cell \u001b[1;32mIn[25], line 10\u001b[0m, in \u001b[0;36madd_quotes_if_needed.<locals>.quote_match\u001b[1;34m(match)\u001b[0m\n\u001b[0;32m      9\u001b[0m \u001b[38;5;28;01mdef\u001b[39;00m \u001b[38;5;21mquote_match\u001b[39m(match):\n\u001b[1;32m---> 10\u001b[0m     key, sep, value \u001b[38;5;241m=\u001b[39m match\u001b[38;5;241m.\u001b[39mgroups()\n\u001b[0;32m     11\u001b[0m     \u001b[38;5;28;01mif\u001b[39;00m \u001b[38;5;129;01mnot\u001b[39;00m (key\u001b[38;5;241m.\u001b[39mstartswith(\u001b[38;5;124m'\u001b[39m\u001b[38;5;124m\"\u001b[39m\u001b[38;5;124m'\u001b[39m) \u001b[38;5;129;01mand\u001b[39;00m key\u001b[38;5;241m.\u001b[39mendswith(\u001b[38;5;124m'\u001b[39m\u001b[38;5;124m\"\u001b[39m\u001b[38;5;124m'\u001b[39m)):\n\u001b[0;32m     12\u001b[0m         key \u001b[38;5;241m=\u001b[39m \u001b[38;5;124mf\u001b[39m\u001b[38;5;124m'\u001b[39m\u001b[38;5;124m\"\u001b[39m\u001b[38;5;132;01m{\u001b[39;00mkey\u001b[38;5;241m.\u001b[39mstrip()\u001b[38;5;132;01m}\u001b[39;00m\u001b[38;5;124m\"\u001b[39m\u001b[38;5;124m'\u001b[39m\n",
      "\u001b[1;31mValueError\u001b[0m: not enough values to unpack (expected 3, got 2)"
     ]
    }
   ],
   "source": [
    "import json\n",
    "import re\n",
    "\n",
    "def add_quotes_if_needed(json_string):\n",
    "    # 올바른 JSON 포맷을 위해 description 값에 들어갈 따옴표 제거\n",
    "    json_string = re.sub(r'(?<!\\\\)\\'', '\"', json_string)\n",
    "    \n",
    "    # 정규 표현식을 통해 key와 value를 찾아 쌍따옴표로 감싸기\n",
    "    def quote_match(match):\n",
    "        key, sep, value = match.groups()\n",
    "        if not (key.startswith('\"') and key.endswith('\"')):\n",
    "            key = f'\"{key.strip()}\"'\n",
    "        if value[0] != '\"':\n",
    "            value = f'\"{value.strip()}\"'\n",
    "        return f'{key}: {value}'\n",
    "\n",
    "    # key-value 쌍을 찾기 위한 정규 표현식\n",
    "    json_string = re.sub(r\"(\\w+)\\s*:\\s*([^,\\}\\{]+)\", quote_match, json_string)\n",
    "    \n",
    "    return json_string\n",
    "\n",
    "# 주어진 JSON 문자열\n",
    "json_string = '''{\n",
    "name: Ryan Park, \n",
    "place: home, \n",
    "activity: use a desktop, \n",
    "description: Ryan continues his project to create a new mobile app and spends the morning working on it at home.\n",
    "}'''\n",
    "\n",
    "# 함수 호출 및 변환된 JSON 문자열 출력\n",
    "corrected_json_string = add_quotes_if_needed(json_string)\n",
    "print(corrected_json_string)\n",
    "\n",
    "# 파이썬 딕셔너리로 변환\n",
    "try:\n",
    "    json_dict = json.loads(corrected_json_string)\n",
    "    print(json_dict)\n",
    "except json.JSONDecodeError as e:\n",
    "    print(\"JSON 디코딩 오류:\", e)\n"
   ]
  }
 ],
 "metadata": {
  "kernelspec": {
   "display_name": "sesac_gpu_env310",
   "language": "python",
   "name": "python3"
  },
  "language_info": {
   "codemirror_mode": {
    "name": "ipython",
    "version": 3
   },
   "file_extension": ".py",
   "mimetype": "text/x-python",
   "name": "python",
   "nbconvert_exporter": "python",
   "pygments_lexer": "ipython3",
   "version": "3.10.14"
  }
 },
 "nbformat": 4,
 "nbformat_minor": 2
}

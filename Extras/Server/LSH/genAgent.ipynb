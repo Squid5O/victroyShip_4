{
 "cells": [
  {
   "cell_type": "code",
   "execution_count": 20,
   "metadata": {},
   "outputs": [],
   "source": [
    "def lowercase_strings(string_list):#리스트 내용물 전부 소문자로\n",
    "    return [s.lower() for s in string_list]"
   ]
  },
  {
   "cell_type": "code",
   "execution_count": 21,
   "metadata": {},
   "outputs": [],
   "source": [
    "places = [\"Home\", 'Cafe', 'Bakery', 'Park', 'Convenience store', 'Bar']#장소 리스트\n",
    "places = lowercase_strings(places)\n",
    "#각 장소에서 할 수 있는 행동들. 인게임에서 구현된 상호작용들과 같아야 한다\n",
    "house_activities = [\n",
    "    \"have a meal\",\n",
    "    \"Watch TV\",\n",
    "    \"Read a book\",\n",
    "    \"Exercise\",\n",
    "    \"Sleep\",\n",
    "    \"Clean the house\",\n",
    "    \"Call a friend\",\n",
    "    \"Take a shower\",\n",
    "    \"Use a desktop\",\n",
    "    \"paint on a tablet\",\n",
    "    \"write a book\"\n",
    "]\n",
    "house_activities=lowercase_strings(house_activities)\n",
    "cafe_activities = [\n",
    "    \"Order coffee\",\n",
    "    \"Chat with barista\",\n",
    "    \"Read a magazine\",\n",
    "    \"Work on laptop\",\n",
    "    \"Meet a friend\",\n",
    "    \"Listen to music\",\n",
    "    \"People watch\",\n",
    "    \"Sketch in a notebook\",\n",
    "]\n",
    "cafe_activities=lowercase_strings(cafe_activities)\n",
    "bakery_activities = [\n",
    "    \"Buy bread\",\n",
    "    \"Purchase pastries\",\n",
    "    \"Order a cake\",\n",
    "    \"Chat with baker\",\n",
    "    \"Watch the baking process\",\n",
    "    \"Learn a baking tip\",\n",
    "    \"Order coffee\",\n",
    "    \"Relax in seating area\",\n",
    "]\n",
    "bakery_activities=lowercase_strings(bakery_activities)\n",
    "park_activities = [\n",
    "    \"Walk the dog\",\n",
    "    \"Have a picnic\",\n",
    "    \"Jog\",\n",
    "    \"Read a book on a bench\",\n",
    "    \"Feed the ducks\",\n",
    "    \"Take photos\",\n",
    "    \"Ride a bike\",\n",
    "    \"Meditate\",\n",
    "]\n",
    "park_activities=lowercase_strings(park_activities)\n",
    "convenience_store_activities = [\n",
    "    \"Buy snacks\",\n",
    "    \"Purchase drinks\",\n",
    "    \"Get lottery tickets\",\n",
    "    \"Chat with cashier\",\n",
    "    \"Pick up a magazine\",\n",
    "    \"Use the ATM\",\n",
    "    \"Get a hot dog\",\n",
    "    \"Buy household items\",\n",
    "    \"Refill phone credit\",\n",
    "    \"Get ice cream\"\n",
    "]\n",
    "convenience_store_activities=lowercase_strings(convenience_store_activities)\n",
    "bar_activities = [\n",
    "    \"Order a drink\",\n",
    "    \"Play pool\",\n",
    "    \"Listen to live music\",\n",
    "    \"Watch a sports game\",\n",
    "    \"Chat with bartender\",\n",
    "    \"Dance\",\n",
    "    \"Meet new people\",\n",
    "    \"Sing karaoke\",\n",
    "    \"Try a new cocktail\",\n",
    "    \"Participate in trivia night\"\n",
    "]\n",
    "bar_activities=lowercase_strings(bar_activities)\n"
   ]
  },
  {
   "cell_type": "code",
   "execution_count": 22,
   "metadata": {},
   "outputs": [],
   "source": [
    "persona_ryan = '''\n",
    " name : Ryan Park\n",
    " age : 29\n",
    " Innate tendency : imaginative, patient, kind\n",
    " Learned tendency : Tamara Taylor is a children's book author who loves to create stories that capture the imaginations of young readers. She is very patient and kind when it comes to her work.\n",
    " Currently : Ryan Park is working on a project to create a new mobile app. He is also reading up on the latest technologies to stay ahead of the curve.\n",
    " Lifestyle : Ryan Park goes to bed around 1am, awakes up around 9am, eats dinner around 5pm.\n",
    "'''\n",
    "persona_tamara = '''\n",
    " name : Tamara Taylor\n",
    " age : 30\n",
    " Innate tendency : analytical, pragmatic, driven\n",
    " Learned tendency : Ryan Park is a software engineer who loves to solve problems. He is constantly looking for ways to improve existing systems.\n",
    " Currently : Tamara Taylor lives with a housemate, Carmen Ortiz, and is working on a new series of children's books. She is also working on a comic book series for adults.\n",
    " Lifestyle : Tamara Taylor goes to bed around 10pm, awakes up around 6am, eats dinner around 6pm.\n",
    "'''\n",
    "persona_abigail = '''\n",
    " name : Abigail Chen\n",
    " age : 25\n",
    " Innate tendency : open-minded, curious, determined\n",
    " Learned tendency : Abigail Chen is a digital artist and animator who loves to explore how technology can be used to express ideas. She is always looking for new ways to combine art and technology.\n",
    " Currently : Abigail Chen is working on an animation project for a client. She is also experimenting with different tools and techniques to create interactive art.\n",
    " Lifestyle : Abigail Chen awakes up around 08:00, goes to bed around 24:00.\n",
    "'''"
   ]
  },
  {
   "cell_type": "code",
   "execution_count": 23,
   "metadata": {},
   "outputs": [],
   "source": [
    "sysprom = \"You are an imaginative game story writer. Answer the request.\""
   ]
  },
  {
   "cell_type": "code",
   "execution_count": 24,
   "metadata": {},
   "outputs": [],
   "source": [
    "oldScedule = \"'7:00, home, sleep'\"#인물들의 행동을 정리할 변수"
   ]
  },
  {
   "cell_type": "code",
   "execution_count": 25,
   "metadata": {},
   "outputs": [],
   "source": [
    "import ollama\n",
    "\n",
    "def setUserProm(time,persona):\n",
    "    userprom = f\"\"\"Understand the persona of the given people, {persona}.\n",
    "    Around the people, there are places such as {places}.\n",
    "    What you can do at home is {house_activities}. \n",
    "    What you can do at a cafe is {cafe_activities}. \n",
    "    What you can do at a bakery is {bakery_activities}. \n",
    "    What you can do at a park is {park_activities}. \n",
    "    What you can do at a convenience store is {convenience_store_activities}. \n",
    "    What you can do at a bar is {bar_activities}.\n",
    "    This is what a person has done before. {oldScedule}  \n",
    "    people will have coffee with her friend at the cafe at 3 p.m.\n",
    "    Make one prediction about what a person will do at {time}. Make a prediction based on the given persona and what you can do in the surrounding places and places. Answer in one concise sentence, no more than 500 characters.\n",
    "    \"\"\"\n",
    "    return userprom"
   ]
  },
  {
   "cell_type": "code",
   "execution_count": 26,
   "metadata": {},
   "outputs": [],
   "source": [
    "def convert_time(time_str):\n",
    "    # 시간과 분을 분리합니다.\n",
    "    hours, minutes = map(int, time_str.split(':'))\n",
    "    \n",
    "    # 오전/오후를 결정합니다.\n",
    "    period = 'am' if hours < 12 else 'pm'\n",
    "    \n",
    "    # 12시간 형식으로 시간을 변환합니다.\n",
    "    hours = hours if 1 <= hours <= 12 else abs(hours - 12)\n",
    "    \n",
    "    # 결과 문자열을 반환합니다.\n",
    "    return f'{hours}:{minutes:02d} {period}'\n"
   ]
  },
  {
   "cell_type": "code",
   "execution_count": 27,
   "metadata": {},
   "outputs": [],
   "source": [
    "#챗봇에게 다음 스케줄 만들어달라고 하는 함수\n",
    "def make_schedule(time,persona):\n",
    "    time = convert_time(time)\n",
    "    stream = ollama.chat(\n",
    "    model='llama3',\n",
    "    messages=[\n",
    "        {\"role\": \"system\", \"content\": sysprom},\n",
    "        {\"role\": \"user\", \"content\": setUserProm(time,persona)}\n",
    "    ],\n",
    "    options={\n",
    "            #  \"temperature\":1.2,\n",
    "             \"repeat_penalty\": 1.3,\n",
    "             \"num_ctx\": 1024,\n",
    "            # ,\"top_k\":60,\n",
    "            # ,\"top_p\":0.3\n",
    "             },\n",
    "    stream=True,\n",
    "    )\n",
    "    whole_string = \"\"\n",
    "    for chunk in stream:\n",
    "        whole_string+=chunk['message']['content']\n",
    "        print(chunk['message']['content'], end='', flush=True)\n",
    "    print('\\n')\n",
    "    return whole_string"
   ]
  },
  {
   "cell_type": "code",
   "execution_count": 28,
   "metadata": {},
   "outputs": [],
   "source": [
    "def search_place(chatbot_response):\n",
    "    stream = ollama.chat(\n",
    "    model='llama3',\n",
    "    messages=[\n",
    "        {\"role\": \"system\", \"content\": f'Understand the given sentence and answer it succinctly by choosing one of the most appropriate places from the list. {places}'},\n",
    "        {\"role\": \"user\", \"content\": chatbot_response}\n",
    "    ],\n",
    "    options={\"temperature\":0.5\n",
    "            },\n",
    "    stream=False,\n",
    "    )\n",
    "    print(f\"\\n{stream['message']['content']}\\n\")\n",
    "    return {stream['message']['content']}"
   ]
  },
  {
   "cell_type": "code",
   "execution_count": 29,
   "metadata": {},
   "outputs": [
    {
     "name": "stdout",
     "output_type": "stream",
     "text": [
      "Ryan Park will wake up around 9am after his usual late night of working on his mobile app project and then head to the park for a morning jog or walk with his dog before starting his day.\n",
      "\n",
      "\n",
      "'park'\n",
      "\n",
      "Ryan Park will likely wake up around 9am at home to continue reading about latest technologies for his mobile app project before starting work at 10:00 am.\n",
      "\n",
      "\n",
      "home\n",
      "\n",
      "At noon, I predict Ryan Park will \"use his desktop\" to work on his mobile app project at home, leveraging his innate tendency for imagination and learned skillset as a creative problem-solver.\n",
      "\n",
      "\n",
      "I think there might be some confusion! Since Ryan Park is a person's name, it seems unlikely that he would use his own desktop (which is typically found in an office or home setting) to work on a mobile app project at the park.\n",
      "\n",
      "Instead, I'd suggest choosing 'home' as the most suitable place for Ryan Park to work on his project.\n",
      "\n",
      "Based on Ryan Park's imaginative nature and current project work schedule, I predict that he will spend time at home from 1pm to 2:00 pm reading a book or working on his mobile app development before meeting up with friends for coffee later in the day.\n",
      "\n",
      "\n",
      "Home\n",
      "\n",
      "Ryan Park is likely to walk over to the park after meeting his friend for coffee as he's an imaginative person who enjoys reading books outdoors or people-watching on a bench at around 4:00 pm.\n",
      "\n",
      "\n",
      "The answer is: ['park']\n",
      "\n",
      "I predict that Ryan Park will take a break from his project to read a book or sketch something at home around 6:00 pm after finishing dinner earlier.\n",
      "\n",
      "\n",
      "Based on the options provided, I would say that \"home\" is the most likely place where Ryan Park will take a break from his project to read a book or sketch something.\n",
      "\n",
      "Ryan Park will likely go to bed around 1am after reading up on technologies for his mobile app project at home or possibly take some time off from work by watching TV with a book open next to him before drifting asleep.\n",
      "\n",
      "\n",
      "Home\n",
      "\n"
     ]
    }
   ],
   "source": [
    "for i in range(4, 11):\n",
    "    a = make_schedule(f'{i*2}:00',persona_ryan)\n",
    "    search_place(a)\n",
    "    "
   ]
  },
  {
   "cell_type": "code",
   "execution_count": 18,
   "metadata": {},
   "outputs": [
    {
     "name": "stdout",
     "output_type": "stream",
     "text": [
      "Based on Ryan Park's innate tendency to be imaginative and patient, I predict that he will spend his morning at home using his desktop or tablet to work on a creative project related to his mobile app development, likely starting around 9:00 am.\n",
      "\n"
     ]
    },
    {
     "data": {
      "text/plain": [
       "\"Based on Ryan Park's innate tendency to be imaginative and patient, I predict that he will spend his morning at home using his desktop or tablet to work on a creative project related to his mobile app development, likely starting around 9:00 am.\""
      ]
     },
     "execution_count": 18,
     "metadata": {},
     "output_type": "execute_result"
    }
   ],
   "source": [
    "make_schedule('9:00',persona_ryan)"
   ]
  },
  {
   "cell_type": "markdown",
   "metadata": {},
   "source": [
    "에러 발생시 인게임에서 알 수 있도록 에러가 난 원래 문장이 무엇인지 같이 전달하면 좋을 듯"
   ]
  },
  {
   "cell_type": "code",
   "execution_count": 30,
   "metadata": {},
   "outputs": [
    {
     "name": "stdout",
     "output_type": "stream",
     "text": [
      "home\n"
     ]
    }
   ],
   "source": [
    "def find_places_in_string(places, enter_str):\n",
    "    # List to hold places found in the string\n",
    "    found_places = []\n",
    "\n",
    "    # Iterate over each place in the places list\n",
    "    for place in places:\n",
    "        # Check if the place is in the enter_str\n",
    "        if place in enter_str:\n",
    "            found_places.append(place)\n",
    "\n",
    "    # Print the found places\n",
    "    for place in found_places:\n",
    "        print(place)\n",
    "\n",
    "# Example usage\n",
    "places = [\"home\", \"cafe\", \"bakery\", \"park\", \"convenience store\", \"bar\"]\n",
    "enter_str = 'Based on the options provided, I would say that \"home\" is the most likely place where Ryan Park will take a break from his project to read a book or sketch something.'\n",
    "\n",
    "find_places_in_string(places, enter_str)\n"
   ]
  }
 ],
 "metadata": {
  "kernelspec": {
   "display_name": "sesac_gpu_env310",
   "language": "python",
   "name": "python3"
  },
  "language_info": {
   "codemirror_mode": {
    "name": "ipython",
    "version": 3
   },
   "file_extension": ".py",
   "mimetype": "text/x-python",
   "name": "python",
   "nbconvert_exporter": "python",
   "pygments_lexer": "ipython3",
   "version": "3.10.14"
  }
 },
 "nbformat": 4,
 "nbformat_minor": 2
}
